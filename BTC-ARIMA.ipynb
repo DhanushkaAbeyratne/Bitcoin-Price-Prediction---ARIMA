{
 "cells": [
  {
   "cell_type": "markdown",
   "metadata": {},
   "source": [
    "One of the most common methods used in time series forecasting is known as the ARIMA model, which stands for AutoregRessive Integrated Moving Average. ARIMA is a model that can be fitted to time series data in order to better understand or predict future points in the series."
   ]
  },
  {
   "cell_type": "markdown",
   "metadata": {},
   "source": [
    "Step 1 — Importing Packages and Loading Data"
   ]
  },
  {
   "cell_type": "code",
   "execution_count": 89,
   "metadata": {},
   "outputs": [],
   "source": [
    "import pandas as pd\n",
    "import numpy as np\n",
    "import itertools\n",
    "import statsmodels.api as sm\n",
    "\n",
    "from pandas.plotting import autocorrelation_plot\n",
    "from statsmodels.graphics.tsaplots import plot_acf\n",
    "import statsmodels.api as sm\n",
    "from sklearn.metrics import mean_absolute_error\n",
    "\n",
    "\n",
    "import warnings; warnings.simplefilter('ignore')"
   ]
  },
  {
   "cell_type": "code",
   "execution_count": 476,
   "metadata": {},
   "outputs": [],
   "source": [
    "# visualization\n",
    "%matplotlib inline\n",
    "import seaborn as sns\n",
    "import matplotlib.pyplot as plt\n",
    "\n",
    "# Load data\n",
    "df_bitcoin = pd.read_csv(\"Bitcoin_data.csv\", index_col = 0)\n"
   ]
  },
  {
   "cell_type": "markdown",
   "metadata": {},
   "source": [
    "Step 2 - Create Time Series Data"
   ]
  },
  {
   "cell_type": "code",
   "execution_count": 477,
   "metadata": {},
   "outputs": [
    {
     "data": {
      "text/html": [
       "<div>\n",
       "<style scoped>\n",
       "    .dataframe tbody tr th:only-of-type {\n",
       "        vertical-align: middle;\n",
       "    }\n",
       "\n",
       "    .dataframe tbody tr th {\n",
       "        vertical-align: top;\n",
       "    }\n",
       "\n",
       "    .dataframe thead th {\n",
       "        text-align: right;\n",
       "    }\n",
       "</style>\n",
       "<table border=\"1\" class=\"dataframe\">\n",
       "  <thead>\n",
       "    <tr style=\"text-align: right;\">\n",
       "      <th></th>\n",
       "      <th>Open</th>\n",
       "      <th>High</th>\n",
       "      <th>Low</th>\n",
       "      <th>Close</th>\n",
       "      <th>Volume</th>\n",
       "      <th>Market Cap</th>\n",
       "    </tr>\n",
       "    <tr>\n",
       "      <th>Date</th>\n",
       "      <th></th>\n",
       "      <th></th>\n",
       "      <th></th>\n",
       "      <th></th>\n",
       "      <th></th>\n",
       "      <th></th>\n",
       "    </tr>\n",
       "  </thead>\n",
       "  <tbody>\n",
       "    <tr>\n",
       "      <td>2019-07-15</td>\n",
       "      <td>10257.84</td>\n",
       "      <td>11052.77</td>\n",
       "      <td>9992.01</td>\n",
       "      <td>10895.09</td>\n",
       "      <td>25,384,047,207</td>\n",
       "      <td>194,147,627,475</td>\n",
       "    </tr>\n",
       "    <tr>\n",
       "      <td>2019-07-14</td>\n",
       "      <td>11381.02</td>\n",
       "      <td>11451.20</td>\n",
       "      <td>10234.58</td>\n",
       "      <td>10256.06</td>\n",
       "      <td>22,486,000,001</td>\n",
       "      <td>182,741,933,552</td>\n",
       "    </tr>\n",
       "    <tr>\n",
       "      <td>2019-07-13</td>\n",
       "      <td>11813.13</td>\n",
       "      <td>11841.96</td>\n",
       "      <td>10908.48</td>\n",
       "      <td>11392.38</td>\n",
       "      <td>21,042,616,384</td>\n",
       "      <td>202,968,191,001</td>\n",
       "    </tr>\n",
       "    <tr>\n",
       "      <td>2019-07-12</td>\n",
       "      <td>11354.30</td>\n",
       "      <td>11905.49</td>\n",
       "      <td>11179.14</td>\n",
       "      <td>11815.99</td>\n",
       "      <td>23,534,692,797</td>\n",
       "      <td>210,494,417,832</td>\n",
       "    </tr>\n",
       "    <tr>\n",
       "      <td>2019-07-11</td>\n",
       "      <td>12139.71</td>\n",
       "      <td>12144.62</td>\n",
       "      <td>11158.92</td>\n",
       "      <td>11358.66</td>\n",
       "      <td>28,595,327,690</td>\n",
       "      <td>202,324,174,692</td>\n",
       "    </tr>\n",
       "  </tbody>\n",
       "</table>\n",
       "</div>"
      ],
      "text/plain": [
       "                Open      High       Low     Close          Volume  \\\n",
       "Date                                                                 \n",
       "2019-07-15  10257.84  11052.77   9992.01  10895.09  25,384,047,207   \n",
       "2019-07-14  11381.02  11451.20  10234.58  10256.06  22,486,000,001   \n",
       "2019-07-13  11813.13  11841.96  10908.48  11392.38  21,042,616,384   \n",
       "2019-07-12  11354.30  11905.49  11179.14  11815.99  23,534,692,797   \n",
       "2019-07-11  12139.71  12144.62  11158.92  11358.66  28,595,327,690   \n",
       "\n",
       "                 Market Cap  \n",
       "Date                         \n",
       "2019-07-15  194,147,627,475  \n",
       "2019-07-14  182,741,933,552  \n",
       "2019-07-13  202,968,191,001  \n",
       "2019-07-12  210,494,417,832  \n",
       "2019-07-11  202,324,174,692  "
      ]
     },
     "execution_count": 477,
     "metadata": {},
     "output_type": "execute_result"
    }
   ],
   "source": [
    "# indexing \n",
    "df_bitcoin['Date'] = pd.to_datetime(df_bitcoin['Date'])\n",
    "df_bitcoin.set_index('Date', inplace=True)\n",
    "df_bitcoin.head(5)"
   ]
  },
  {
   "cell_type": "markdown",
   "metadata": {},
   "source": [
    "Step 3 -  Split dataset as train and test data"
   ]
  },
  {
   "cell_type": "markdown",
   "metadata": {},
   "source": [
    "Split the training dataset into train and test sets, use the train set to fit the model, and generate a prediction for each element on the test set."
   ]
  },
  {
   "cell_type": "code",
   "execution_count": 479,
   "metadata": {},
   "outputs": [
    {
     "data": {
      "text/html": [
       "<div>\n",
       "<style scoped>\n",
       "    .dataframe tbody tr th:only-of-type {\n",
       "        vertical-align: middle;\n",
       "    }\n",
       "\n",
       "    .dataframe tbody tr th {\n",
       "        vertical-align: top;\n",
       "    }\n",
       "\n",
       "    .dataframe thead th {\n",
       "        text-align: right;\n",
       "    }\n",
       "</style>\n",
       "<table border=\"1\" class=\"dataframe\">\n",
       "  <thead>\n",
       "    <tr style=\"text-align: right;\">\n",
       "      <th></th>\n",
       "      <th>Close</th>\n",
       "    </tr>\n",
       "    <tr>\n",
       "      <th>Date</th>\n",
       "      <th></th>\n",
       "    </tr>\n",
       "  </thead>\n",
       "  <tbody>\n",
       "    <tr>\n",
       "      <td>2013-04-28</td>\n",
       "      <td>134.21</td>\n",
       "    </tr>\n",
       "    <tr>\n",
       "      <td>2013-04-28</td>\n",
       "      <td>134.21</td>\n",
       "    </tr>\n",
       "    <tr>\n",
       "      <td>2013-04-29</td>\n",
       "      <td>144.54</td>\n",
       "    </tr>\n",
       "    <tr>\n",
       "      <td>2013-04-29</td>\n",
       "      <td>144.54</td>\n",
       "    </tr>\n",
       "    <tr>\n",
       "      <td>2013-04-30</td>\n",
       "      <td>139.00</td>\n",
       "    </tr>\n",
       "    <tr>\n",
       "      <td>...</td>\n",
       "      <td>...</td>\n",
       "    </tr>\n",
       "    <tr>\n",
       "      <td>2018-06-29</td>\n",
       "      <td>6218.30</td>\n",
       "    </tr>\n",
       "    <tr>\n",
       "      <td>2018-06-30</td>\n",
       "      <td>6404.00</td>\n",
       "    </tr>\n",
       "    <tr>\n",
       "      <td>2018-06-30</td>\n",
       "      <td>6404.00</td>\n",
       "    </tr>\n",
       "    <tr>\n",
       "      <td>2018-07-01</td>\n",
       "      <td>6385.82</td>\n",
       "    </tr>\n",
       "    <tr>\n",
       "      <td>2018-07-01</td>\n",
       "      <td>6385.82</td>\n",
       "    </tr>\n",
       "  </tbody>\n",
       "</table>\n",
       "<p>3782 rows × 1 columns</p>\n",
       "</div>"
      ],
      "text/plain": [
       "              Close\n",
       "Date               \n",
       "2013-04-28   134.21\n",
       "2013-04-28   134.21\n",
       "2013-04-29   144.54\n",
       "2013-04-29   144.54\n",
       "2013-04-30   139.00\n",
       "...             ...\n",
       "2018-06-29  6218.30\n",
       "2018-06-30  6404.00\n",
       "2018-06-30  6404.00\n",
       "2018-07-01  6385.82\n",
       "2018-07-01  6385.82\n",
       "\n",
       "[3782 rows x 1 columns]"
      ]
     },
     "execution_count": 479,
     "metadata": {},
     "output_type": "execute_result"
    }
   ],
   "source": [
    "df_bitcoin_train = df_bitcoin.loc[:\"2018-07-01\",[\"Close\"]]\n",
    "df_bitcoin_test = df_bitcoin.loc[\"2018-07-02\":,[\"Close\"]]\n",
    "df_bitcoin_train.sort_values(\"Date\")\n"
   ]
  },
  {
   "cell_type": "code",
   "execution_count": 480,
   "metadata": {},
   "outputs": [
    {
     "data": {
      "text/plain": [
       "<matplotlib.axes._subplots.AxesSubplot at 0x1c2adad590>"
      ]
     },
     "execution_count": 480,
     "metadata": {},
     "output_type": "execute_result"
    },
    {
     "data": {
      "image/png": "[encoded data removed]",
      "text/plain": [
       "<Figure size 432x288 with 1 Axes>"
      ]
     },
     "metadata": {
      "needs_background": "light"
     },
     "output_type": "display_data"
    }
   ],
   "source": [
    "df_bitcoin_train['Close'].plot()"
   ]
  },
  {
   "cell_type": "code",
   "execution_count": 481,
   "metadata": {},
   "outputs": [
    {
     "data": {
      "text/html": [
       "<div>\n",
       "<style scoped>\n",
       "    .dataframe tbody tr th:only-of-type {\n",
       "        vertical-align: middle;\n",
       "    }\n",
       "\n",
       "    .dataframe tbody tr th {\n",
       "        vertical-align: top;\n",
       "    }\n",
       "\n",
       "    .dataframe thead th {\n",
       "        text-align: right;\n",
       "    }\n",
       "</style>\n",
       "<table border=\"1\" class=\"dataframe\">\n",
       "  <thead>\n",
       "    <tr style=\"text-align: right;\">\n",
       "      <th></th>\n",
       "      <th>Close</th>\n",
       "    </tr>\n",
       "    <tr>\n",
       "      <th>Date</th>\n",
       "      <th></th>\n",
       "    </tr>\n",
       "  </thead>\n",
       "  <tbody>\n",
       "    <tr>\n",
       "      <td>2018-07-02</td>\n",
       "      <td>6614.18</td>\n",
       "    </tr>\n",
       "    <tr>\n",
       "      <td>2018-07-02</td>\n",
       "      <td>6614.18</td>\n",
       "    </tr>\n",
       "    <tr>\n",
       "      <td>2018-07-03</td>\n",
       "      <td>6529.59</td>\n",
       "    </tr>\n",
       "    <tr>\n",
       "      <td>2018-07-03</td>\n",
       "      <td>6529.59</td>\n",
       "    </tr>\n",
       "    <tr>\n",
       "      <td>2018-07-04</td>\n",
       "      <td>6597.55</td>\n",
       "    </tr>\n",
       "    <tr>\n",
       "      <td>...</td>\n",
       "      <td>...</td>\n",
       "    </tr>\n",
       "    <tr>\n",
       "      <td>2019-07-13</td>\n",
       "      <td>11392.38</td>\n",
       "    </tr>\n",
       "    <tr>\n",
       "      <td>2019-07-13</td>\n",
       "      <td>11392.38</td>\n",
       "    </tr>\n",
       "    <tr>\n",
       "      <td>2019-07-14</td>\n",
       "      <td>10256.06</td>\n",
       "    </tr>\n",
       "    <tr>\n",
       "      <td>2019-07-14</td>\n",
       "      <td>10256.06</td>\n",
       "    </tr>\n",
       "    <tr>\n",
       "      <td>2019-07-15</td>\n",
       "      <td>10895.09</td>\n",
       "    </tr>\n",
       "  </tbody>\n",
       "</table>\n",
       "<p>757 rows × 1 columns</p>\n",
       "</div>"
      ],
      "text/plain": [
       "               Close\n",
       "Date                \n",
       "2018-07-02   6614.18\n",
       "2018-07-02   6614.18\n",
       "2018-07-03   6529.59\n",
       "2018-07-03   6529.59\n",
       "2018-07-04   6597.55\n",
       "...              ...\n",
       "2019-07-13  11392.38\n",
       "2019-07-13  11392.38\n",
       "2019-07-14  10256.06\n",
       "2019-07-14  10256.06\n",
       "2019-07-15  10895.09\n",
       "\n",
       "[757 rows x 1 columns]"
      ]
     },
     "execution_count": 481,
     "metadata": {},
     "output_type": "execute_result"
    }
   ],
   "source": [
    "df_bitcoin_test.sort_values(\"Date\")"
   ]
  },
  {
   "cell_type": "code",
   "execution_count": 482,
   "metadata": {},
   "outputs": [
    {
     "data": {
      "text/plain": [
       "<matplotlib.axes._subplots.AxesSubplot at 0x1c2bbfa750>"
      ]
     },
     "execution_count": 482,
     "metadata": {},
     "output_type": "execute_result"
    },
    {
     "data": {
      "image/png": "[encoded data removed]",
      "text/plain": [
       "<Figure size 432x288 with 1 Axes>"
      ]
     },
     "metadata": {
      "needs_background": "light"
     },
     "output_type": "display_data"
    }
   ],
   "source": [
    "df_bitcoin_test['Close'].plot()"
   ]
  },
  {
   "cell_type": "markdown",
   "metadata": {},
   "source": [
    "Step 4 - Check Stationary "
   ]
  },
  {
   "cell_type": "markdown",
   "metadata": {},
   "source": [
    "A stationary (time) series is one whose statistical properties such as the mean, variance and autocorrelation are all constant over time."
   ]
  },
  {
   "cell_type": "code",
   "execution_count": 483,
   "metadata": {},
   "outputs": [
    {
     "data": {
      "image/png": "[encoded data removed]",
      "text/plain": [
       "<Figure size 432x288 with 1 Axes>"
      ]
     },
     "execution_count": 483,
     "metadata": {},
     "output_type": "execute_result"
    },
    {
     "data": {
      "image/png": "[encoded data removed]",
      "text/plain": [
       "<Figure size 432x288 with 1 Axes>"
      ]
     },
     "metadata": {
      "needs_background": "light"
     },
     "output_type": "display_data"
    }
   ],
   "source": [
    "plot_acf(df_bitcoin_train.sort_values(\"Date\"), lags=30)"
   ]
  },
  {
   "cell_type": "markdown",
   "metadata": {},
   "source": [
    "Step 5 — The ARIMA Time Series Model"
   ]
  },
  {
   "cell_type": "markdown",
   "metadata": {},
   "source": [
    "One of the most common methods used in time series forecasting is known as the ARIMA model, which stands for AutoregRessive Integrated Moving Average. ARIMA is a model that can be fitted to time series data in order to better understand or predict future points in the series."
   ]
  },
  {
   "cell_type": "markdown",
   "metadata": {},
   "source": [
    "Step 6 - Parameter selection for the ARIMA Time Series Model using Gridsearch"
   ]
  },
  {
   "cell_type": "code",
   "execution_count": 484,
   "metadata": {},
   "outputs": [
    {
     "name": "stdout",
     "output_type": "stream",
     "text": [
      "Examples of parameter combinations for ARIMA...\n",
      "ARIMA:(0, 0, 1)\n",
      "ARIMA:(0, 1, 0)\n",
      "ARIMA:(0, 1, 1)\n",
      "ARIMA:(1, 0, 0)\n"
     ]
    }
   ],
   "source": [
    "p = d = q = range(0, 2)\n",
    "\n",
    "# Generate all different combinations of p, q and q triplets\n",
    "pdq = list(itertools.product(p, d, q))\n",
    "\n",
    "\n",
    "print('Examples of parameter combinations for ARIMA...')\n",
    "print('ARIMA:{}'.format(pdq[1]))\n",
    "print('ARIMA:{}'.format(pdq[2]))\n",
    "print('ARIMA:{}'.format(pdq[3]))\n",
    "print('ARIMA:{}'.format(pdq[4]))\n",
    "      \n"
   ]
  },
  {
   "cell_type": "code",
   "execution_count": 485,
   "metadata": {},
   "outputs": [
    {
     "name": "stdout",
     "output_type": "stream",
     "text": [
      "ARIMA(0, 0, 0) - AIC:72118.35333559517\n",
      "ARIMA(0, 0, 1) - AIC:67227.3154713334\n",
      "ARIMA(0, 1, 0) - AIC:52766.813849227605\n",
      "ARIMA(0, 1, 1) - AIC:52750.55767707002\n",
      "ARIMA(1, 0, 0) - AIC:52782.36926885127\n",
      "ARIMA(1, 0, 1) - AIC:52765.2668052786\n",
      "ARIMA(1, 1, 0) - AIC:52751.88444636149\n",
      "ARIMA(1, 1, 1) - AIC:52741.05386918642\n"
     ]
    }
   ],
   "source": [
    "warnings.filterwarnings(\"ignore\") # specify to ignore warning messages\n",
    "\n",
    "for param in pdq:\n",
    "        \n",
    "            mod = sm.tsa.ARIMA(df_bitcoin_train,\n",
    "                                            order=param)\n",
    "\n",
    "            results =  mod.fit()\n",
    "        \n",
    "            next \n",
    "            print(\"ARIMA{} - AIC:{}\".format(param,results.aic))"
   ]
  },
  {
   "cell_type": "markdown",
   "metadata": {},
   "source": [
    "Step 7 - Fitting an ARIMA Time Series Model"
   ]
  },
  {
   "cell_type": "markdown",
   "metadata": {},
   "source": [
    "ARIMA(1,1,1) model. This sets the lag value to 1 for autoregression, uses a difference order of 1 to make the time series stationary, and uses a moving average model of 1."
   ]
  },
  {
   "cell_type": "code",
   "execution_count": 486,
   "metadata": {},
   "outputs": [
    {
     "data": {
      "text/plain": [
       "3781   -1.436815\n",
       "3782   -1.800819\n",
       "3783   -1.565564\n",
       "3784   -1.717609\n",
       "3785   -1.619342\n",
       "          ...   \n",
       "4534   -1.657919\n",
       "4535   -1.657919\n",
       "4536   -1.657919\n",
       "4537   -1.657919\n",
       "4538   -1.657919\n",
       "Length: 758, dtype: float64"
      ]
     },
     "execution_count": 486,
     "metadata": {},
     "output_type": "execute_result"
    }
   ],
   "source": [
    "model = sm.tsa.ARIMA(df_bitcoin_train, (1, 1, 1)).fit()\n",
    "\n",
    "predictions = model.predict(\n",
    "    start = len(df_bitcoin_train.sort_values(\"Date\")),\n",
    "    end = len(df_bitcoin_train.sort_values(\"Date\")) + len(df_bitcoin_test.sort_values(\"Date\")),\n",
    "    dynamic=True,\n",
    ")\n",
    "\n",
    "predictions"
   ]
  },
  {
   "cell_type": "code",
   "execution_count": 487,
   "metadata": {},
   "outputs": [
    {
     "data": {
      "text/html": [
       "<table class=\"simpletable\">\n",
       "<caption>ARIMA Model Results</caption>\n",
       "<tr>\n",
       "  <th>Dep. Variable:</th>      <td>D.Close</td>     <th>  No. Observations:  </th>    <td>3781</td>   \n",
       "</tr>\n",
       "<tr>\n",
       "  <th>Model:</th>          <td>ARIMA(1, 1, 1)</td>  <th>  Log Likelihood     </th> <td>-26366.527</td>\n",
       "</tr>\n",
       "<tr>\n",
       "  <th>Method:</th>             <td>css-mle</td>     <th>  S.D. of innovations</th>   <td>258.394</td> \n",
       "</tr>\n",
       "<tr>\n",
       "  <th>Date:</th>          <td>Mon, 02 Mar 2020</td> <th>  AIC                </th>  <td>52741.054</td>\n",
       "</tr>\n",
       "<tr>\n",
       "  <th>Time:</th>              <td>01:51:09</td>     <th>  BIC                </th>  <td>52766.005</td>\n",
       "</tr>\n",
       "<tr>\n",
       "  <th>Sample:</th>                <td>1</td>        <th>  HQIC               </th>  <td>52749.924</td>\n",
       "</tr>\n",
       "<tr>\n",
       "  <th></th>                       <td> </td>        <th>                     </th>      <td> </td>    \n",
       "</tr>\n",
       "</table>\n",
       "<table class=\"simpletable\">\n",
       "<tr>\n",
       "        <td></td>           <th>coef</th>     <th>std err</th>      <th>z</th>      <th>P>|z|</th>  <th>[0.025</th>    <th>0.975]</th>  \n",
       "</tr>\n",
       "<tr>\n",
       "  <th>const</th>         <td>   -1.6579</td> <td>    4.375</td> <td>   -0.379</td> <td> 0.705</td> <td>  -10.233</td> <td>    6.918</td>\n",
       "</tr>\n",
       "<tr>\n",
       "  <th>ar.L1.D.Close</th> <td>   -0.6463</td> <td>    0.077</td> <td>   -8.342</td> <td> 0.000</td> <td>   -0.798</td> <td>   -0.494</td>\n",
       "</tr>\n",
       "<tr>\n",
       "  <th>ma.L1.D.Close</th> <td>    0.7141</td> <td>    0.071</td> <td>   10.098</td> <td> 0.000</td> <td>    0.576</td> <td>    0.853</td>\n",
       "</tr>\n",
       "</table>\n",
       "<table class=\"simpletable\">\n",
       "<caption>Roots</caption>\n",
       "<tr>\n",
       "    <td></td>   <th>            Real</th>  <th>         Imaginary</th> <th>         Modulus</th>  <th>        Frequency</th>\n",
       "</tr>\n",
       "<tr>\n",
       "  <th>AR.1</th> <td>          -1.5473</td> <td>          +0.0000j</td> <td>           1.5473</td> <td>           0.5000</td>\n",
       "</tr>\n",
       "<tr>\n",
       "  <th>MA.1</th> <td>          -1.4003</td> <td>          +0.0000j</td> <td>           1.4003</td> <td>           0.5000</td>\n",
       "</tr>\n",
       "</table>"
      ],
      "text/plain": [
       "<class 'statsmodels.iolib.summary.Summary'>\n",
       "\"\"\"\n",
       "                             ARIMA Model Results                              \n",
       "==============================================================================\n",
       "Dep. Variable:                D.Close   No. Observations:                 3781\n",
       "Model:                 ARIMA(1, 1, 1)   Log Likelihood              -26366.527\n",
       "Method:                       css-mle   S.D. of innovations            258.394\n",
       "Date:                Mon, 02 Mar 2020   AIC                          52741.054\n",
       "Time:                        01:51:09   BIC                          52766.005\n",
       "Sample:                             1   HQIC                         52749.924\n",
       "                                                                              \n",
       "=================================================================================\n",
       "                    coef    std err          z      P>|z|      [0.025      0.975]\n",
       "---------------------------------------------------------------------------------\n",
       "const            -1.6579      4.375     -0.379      0.705     -10.233       6.918\n",
       "ar.L1.D.Close    -0.6463      0.077     -8.342      0.000      -0.798      -0.494\n",
       "ma.L1.D.Close     0.7141      0.071     10.098      0.000       0.576       0.853\n",
       "                                    Roots                                    \n",
       "=============================================================================\n",
       "                  Real          Imaginary           Modulus         Frequency\n",
       "-----------------------------------------------------------------------------\n",
       "AR.1           -1.5473           +0.0000j            1.5473            0.5000\n",
       "MA.1           -1.4003           +0.0000j            1.4003            0.5000\n",
       "-----------------------------------------------------------------------------\n",
       "\"\"\""
      ]
     },
     "execution_count": 487,
     "metadata": {},
     "output_type": "execute_result"
    }
   ],
   "source": [
    "model.summary()"
   ]
  },
  {
   "cell_type": "markdown",
   "metadata": {},
   "source": [
    "The coef column shows the weight (i.e. importance) of each feature and how each one impacts the time series. The P>|z| column informs us of the significance of each feature weight. \n",
    "\n",
    "The P Values of the AR1 and MA1 terms have improved and are highly significant (<< 0.05)."
   ]
  },
  {
   "cell_type": "code",
   "execution_count": 488,
   "metadata": {},
   "outputs": [
    {
     "data": {
      "image/png": "[encoded data removed]",
      "text/plain": [
       "<Figure size 432x288 with 2 Axes>"
      ]
     },
     "metadata": {
      "needs_background": "light"
     },
     "output_type": "display_data"
    }
   ],
   "source": [
    "residuals = (model.resid)\n",
    "fig, ax = plt.subplots(1,2)\n",
    "residuals.plot(title=\"Residuals\", ax=ax[0])\n",
    "residuals.plot(kind='kde', title='Density', ax=ax[1])\n",
    "plt.show()"
   ]
  },
  {
   "cell_type": "markdown",
   "metadata": {},
   "source": [
    "Firstly, line plot of the residual errors, suggesting that there may still be some trend information not captured by the model.\n",
    "Next, density plot of the residual error values, suggesting the errors are Gaussian, but may be centered on zero."
   ]
  },
  {
   "cell_type": "markdown",
   "metadata": {},
   "source": [
    "Step 8 - Test accuracy "
   ]
  },
  {
   "cell_type": "code",
   "execution_count": 489,
   "metadata": {},
   "outputs": [
    {
     "name": "stdout",
     "output_type": "stream",
     "text": [
      "Mean absolute error:  6002.82412386324\n"
     ]
    }
   ],
   "source": [
    "print(\"Mean absolute error: \", mean_absolute_error(df_bitcoin_test.sort_values('Date'), predictions[1:]))\n",
    "\n",
    "\n"
   ]
  },
  {
   "cell_type": "markdown",
   "metadata": {},
   "source": [
    "Step 9 - Use of forecast( ) method "
   ]
  },
  {
   "cell_type": "code",
   "execution_count": 520,
   "metadata": {
    "scrolled": false
   },
   "outputs": [],
   "source": [
    "model = sm.tsa.ARIMA(df_bitcoin_train, (1, 1, 1)).fit()\n",
    "\n",
    "forecast = model.forecast(len(df_bitcoin_test))[0]\n"
   ]
  },
  {
   "cell_type": "code",
   "execution_count": 521,
   "metadata": {},
   "outputs": [
    {
     "name": "stdout",
     "output_type": "stream",
     "text": [
      "Mean absolute error:  6495.173157618956\n"
     ]
    }
   ],
   "source": [
    "print(\"Mean absolute error: \", mean_absolute_error(df_bitcoin_test, forecast))"
   ]
  },
  {
   "cell_type": "markdown",
   "metadata": {},
   "source": [
    "Step 10 - Predict using different parameters \n",
    "\n",
    "There are three distinct integers (p, d, q) that are used to parametrize ARIMA models."
   ]
  },
  {
   "cell_type": "code",
   "execution_count": 515,
   "metadata": {},
   "outputs": [
    {
     "data": {
      "text/plain": [
       "3781   -1.487472\n",
       "3782   -1.653428\n",
       "3783   -1.653428\n",
       "3784   -1.653428\n",
       "3785   -1.653428\n",
       "          ...   \n",
       "4534   -1.653428\n",
       "4535   -1.653428\n",
       "4536   -1.653428\n",
       "4537   -1.653428\n",
       "4538   -1.653428\n",
       "Length: 758, dtype: float64"
      ]
     },
     "execution_count": 515,
     "metadata": {},
     "output_type": "execute_result"
    }
   ],
   "source": [
    "model = sm.tsa.ARIMA(df_bitcoin_train, (0, 1, 1)).fit()\n",
    "\n",
    "predictions = model.predict(\n",
    "    start = len(df_bitcoin_train.sort_values(\"Date\")),\n",
    "    end = len(df_bitcoin_train.sort_values(\"Date\")) + len(df_bitcoin_test.sort_values(\"Date\")),\n",
    "    dynamic=True, \n",
    ")\n",
    "\n",
    "predictions "
   ]
  },
  {
   "cell_type": "code",
   "execution_count": 516,
   "metadata": {
    "scrolled": true
   },
   "outputs": [
    {
     "name": "stdout",
     "output_type": "stream",
     "text": [
      "Mean absolute error:  6002.819517492909\n"
     ]
    }
   ],
   "source": [
    "print(\"Mean absolute error: \", mean_absolute_error(df_bitcoin_test.sort_values('Date'), predictions[1:]))"
   ]
  },
  {
   "cell_type": "code",
   "execution_count": 517,
   "metadata": {},
   "outputs": [
    {
     "data": {
      "text/plain": [
       "3781   -1.542929\n",
       "3782   -1.646043\n",
       "3783   -1.652935\n",
       "3784   -1.653395\n",
       "3785   -1.653426\n",
       "          ...   \n",
       "4534   -1.653428\n",
       "4535   -1.653428\n",
       "4536   -1.653428\n",
       "4537   -1.653428\n",
       "4538   -1.653428\n",
       "Length: 758, dtype: float64"
      ]
     },
     "execution_count": 517,
     "metadata": {},
     "output_type": "execute_result"
    }
   ],
   "source": [
    "model = sm.tsa.ARIMA(df_bitcoin_train, (1, 1, 0)).fit()\n",
    "\n",
    "predictions = model.predict(\n",
    "    start = len(df_bitcoin_train.sort_values(\"Date\")),\n",
    "    end = len(df_bitcoin_train.sort_values(\"Date\")) + len(df_bitcoin_test.sort_values(\"Date\")),\n",
    "    dynamic=True, \n",
    ")\n",
    "\n",
    "predictions  "
   ]
  },
  {
   "cell_type": "code",
   "execution_count": 518,
   "metadata": {},
   "outputs": [
    {
     "name": "stdout",
     "output_type": "stream",
     "text": [
      "Mean absolute error:  6002.81950756469\n"
     ]
    }
   ],
   "source": [
    "print(\"Mean absolute error: \", mean_absolute_error(df_bitcoin_test.sort_values('Date'), predictions[1:]))"
   ]
  },
  {
   "cell_type": "markdown",
   "metadata": {},
   "source": [
    "Conclusion"
   ]
  },
  {
   "cell_type": "markdown",
   "metadata": {},
   "source": [
    "This project investigated bitcoin price prediction by using an ARIMA model. Towards this end, at first I have preprocessed data to make it stationary, and then, have searched over feasible (p, q, d) tuples for finding the ARIMA model which minimizes the MAE of prediction. The results indicate that the bitcoin price prediction using its closing price history could results in large MAE values due to bitcoin’s price vulnerability to high jumps and fall-downs. Moreover, the results confirm that the ARIMA model could be still used for price prediction in sub-periods of the timespan, i.e. by dividing the timespan to several time-spans over which, dataset has a unique trend. Furthermore, I have investigated that the results demonstrated that ARIMA outperforms most other methods in predicting bitcoin prices on a daily time series basis in terms of mean absolute error (MAE). "
   ]
  },
  {
   "cell_type": "code",
   "execution_count": null,
   "metadata": {},
   "outputs": [],
   "source": []
  }
 ],
 "metadata": {
  "kernelspec": {
   "display_name": "Python 3",
   "language": "python",
   "name": "python3"
  },
  "language_info": {
   "codemirror_mode": {
    "name": "ipython",
    "version": 3
   },
   "file_extension": ".py",
   "mimetype": "text/x-python",
   "name": "python",
   "nbconvert_exporter": "python",
   "pygments_lexer": "ipython3",
   "version": "3.7.4"
  }
 },
 "nbformat": 4,
 "nbformat_minor": 2
}
