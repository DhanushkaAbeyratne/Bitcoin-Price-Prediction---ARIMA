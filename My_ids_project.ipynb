{
 "cells": [
  {
   "cell_type": "code",
   "execution_count": 11,
   "metadata": {},
   "outputs": [
    {
     "data": {
      "text/html": [
       "<div>\n",
       "<style scoped>\n",
       "    .dataframe tbody tr th:only-of-type {\n",
       "        vertical-align: middle;\n",
       "    }\n",
       "\n",
       "    .dataframe tbody tr th {\n",
       "        vertical-align: top;\n",
       "    }\n",
       "\n",
       "    .dataframe thead th {\n",
       "        text-align: right;\n",
       "    }\n",
       "</style>\n",
       "<table border=\"1\" class=\"dataframe\">\n",
       "  <thead>\n",
       "    <tr style=\"text-align: right;\">\n",
       "      <th></th>\n",
       "      <th>Unnamed: 0</th>\n",
       "      <th>Open</th>\n",
       "      <th>High</th>\n",
       "      <th>Low</th>\n",
       "      <th>Close**</th>\n",
       "      <th>Volume</th>\n",
       "      <th>Market Cap</th>\n",
       "    </tr>\n",
       "    <tr>\n",
       "      <th>Date</th>\n",
       "      <th></th>\n",
       "      <th></th>\n",
       "      <th></th>\n",
       "      <th></th>\n",
       "      <th></th>\n",
       "      <th></th>\n",
       "      <th></th>\n",
       "    </tr>\n",
       "  </thead>\n",
       "  <tbody>\n",
       "    <tr>\n",
       "      <td>2019-07-15</td>\n",
       "      <td>1</td>\n",
       "      <td>10257.84</td>\n",
       "      <td>11052.77</td>\n",
       "      <td>9992.01</td>\n",
       "      <td>10895.09</td>\n",
       "      <td>25,384,047,207</td>\n",
       "      <td>194,147,627,475</td>\n",
       "    </tr>\n",
       "    <tr>\n",
       "      <td>2019-07-14</td>\n",
       "      <td>2</td>\n",
       "      <td>11381.02</td>\n",
       "      <td>11451.20</td>\n",
       "      <td>10234.58</td>\n",
       "      <td>10256.06</td>\n",
       "      <td>22,486,000,001</td>\n",
       "      <td>182,741,933,552</td>\n",
       "    </tr>\n",
       "    <tr>\n",
       "      <td>2019-07-13</td>\n",
       "      <td>3</td>\n",
       "      <td>11813.13</td>\n",
       "      <td>11841.96</td>\n",
       "      <td>10908.48</td>\n",
       "      <td>11392.38</td>\n",
       "      <td>21,042,616,384</td>\n",
       "      <td>202,968,191,001</td>\n",
       "    </tr>\n",
       "    <tr>\n",
       "      <td>2019-07-12</td>\n",
       "      <td>4</td>\n",
       "      <td>11354.30</td>\n",
       "      <td>11905.49</td>\n",
       "      <td>11179.14</td>\n",
       "      <td>11815.99</td>\n",
       "      <td>23,534,692,797</td>\n",
       "      <td>210,494,417,832</td>\n",
       "    </tr>\n",
       "    <tr>\n",
       "      <td>2019-07-11</td>\n",
       "      <td>5</td>\n",
       "      <td>12139.71</td>\n",
       "      <td>12144.62</td>\n",
       "      <td>11158.92</td>\n",
       "      <td>11358.66</td>\n",
       "      <td>28,595,327,690</td>\n",
       "      <td>202,324,174,692</td>\n",
       "    </tr>\n",
       "  </tbody>\n",
       "</table>\n",
       "</div>"
      ],
      "text/plain": [
       "            Unnamed: 0      Open      High       Low   Close**  \\\n",
       "Date                                                             \n",
       "2019-07-15           1  10257.84  11052.77   9992.01  10895.09   \n",
       "2019-07-14           2  11381.02  11451.20  10234.58  10256.06   \n",
       "2019-07-13           3  11813.13  11841.96  10908.48  11392.38   \n",
       "2019-07-12           4  11354.30  11905.49  11179.14  11815.99   \n",
       "2019-07-11           5  12139.71  12144.62  11158.92  11358.66   \n",
       "\n",
       "                    Volume       Market Cap  \n",
       "Date                                         \n",
       "2019-07-15  25,384,047,207  194,147,627,475  \n",
       "2019-07-14  22,486,000,001  182,741,933,552  \n",
       "2019-07-13  21,042,616,384  202,968,191,001  \n",
       "2019-07-12  23,534,692,797  210,494,417,832  \n",
       "2019-07-11  28,595,327,690  202,324,174,692  "
      ]
     },
     "execution_count": 11,
     "metadata": {},
     "output_type": "execute_result"
    }
   ],
   "source": [
    "import pandas as pd\n",
    "import numpy as np\n",
    "df_bitcoin = pd.read_csv(\"Bitcoin_data.csv\")\n",
    "df_bitcoin['Date'] = pd.to_datetime(df_bitcoin['Date'])\n",
    "df_bitcoin.set_index('Date', inplace=True)\n",
    "df_bitcoin.head(5)"
   ]
  },
  {
   "cell_type": "code",
   "execution_count": 12,
   "metadata": {},
   "outputs": [
    {
     "data": {
      "text/plain": [
       "Timestamp('2019-07-15 00:00:00')"
      ]
     },
     "execution_count": 12,
     "metadata": {},
     "output_type": "execute_result"
    }
   ],
   "source": [
    "max(df_bitcoin.index)\n"
   ]
  },
  {
   "cell_type": "code",
   "execution_count": 13,
   "metadata": {},
   "outputs": [
    {
     "data": {
      "text/plain": [
       "Timestamp('2013-04-28 00:00:00')"
      ]
     },
     "execution_count": 13,
     "metadata": {},
     "output_type": "execute_result"
    }
   ],
   "source": [
    "min(df_bitcoin.index)"
   ]
  },
  {
   "cell_type": "code",
   "execution_count": 14,
   "metadata": {},
   "outputs": [
    {
     "data": {
      "text/plain": [
       "<pandas.plotting._core.PlotAccessor object at 0x10298ab10>"
      ]
     },
     "execution_count": 14,
     "metadata": {},
     "output_type": "execute_result"
    }
   ],
   "source": [
    "df_bitcoin[\"Close**\"].plot"
   ]
  },
  {
   "cell_type": "code",
   "execution_count": null,
   "metadata": {},
   "outputs": [],
   "source": []
  }
 ],
 "metadata": {
  "kernelspec": {
   "display_name": "Python 3",
   "language": "python",
   "name": "python3"
  },
  "language_info": {
   "codemirror_mode": {
    "name": "ipython",
    "version": 3
   },
   "file_extension": ".py",
   "mimetype": "text/x-python",
   "name": "python",
   "nbconvert_exporter": "python",
   "pygments_lexer": "ipython3",
   "version": "3.7.4"
  }
 },
 "nbformat": 4,
 "nbformat_minor": 2
}
