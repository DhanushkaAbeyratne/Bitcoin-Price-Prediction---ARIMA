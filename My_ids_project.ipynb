{
 "cells": [
  {
   "cell_type": "code",
   "execution_count": 80,
   "metadata": {},
   "outputs": [
    {
     "data": {
      "text/html": [
       "<div>\n",
       "<style scoped>\n",
       "    .dataframe tbody tr th:only-of-type {\n",
       "        vertical-align: middle;\n",
       "    }\n",
       "\n",
       "    .dataframe tbody tr th {\n",
       "        vertical-align: top;\n",
       "    }\n",
       "\n",
       "    .dataframe thead th {\n",
       "        text-align: right;\n",
       "    }\n",
       "</style>\n",
       "<table border=\"1\" class=\"dataframe\">\n",
       "  <thead>\n",
       "    <tr style=\"text-align: right;\">\n",
       "      <th></th>\n",
       "      <th>Unnamed: 0</th>\n",
       "      <th>Open</th>\n",
       "      <th>High</th>\n",
       "      <th>Low</th>\n",
       "      <th>Close</th>\n",
       "      <th>Volume</th>\n",
       "      <th>Market Cap</th>\n",
       "    </tr>\n",
       "    <tr>\n",
       "      <th>Date</th>\n",
       "      <th></th>\n",
       "      <th></th>\n",
       "      <th></th>\n",
       "      <th></th>\n",
       "      <th></th>\n",
       "      <th></th>\n",
       "      <th></th>\n",
       "    </tr>\n",
       "  </thead>\n",
       "  <tbody>\n",
       "    <tr>\n",
       "      <td>2019-07-15</td>\n",
       "      <td>1</td>\n",
       "      <td>10257.84</td>\n",
       "      <td>11052.77</td>\n",
       "      <td>9992.01</td>\n",
       "      <td>10895.09</td>\n",
       "      <td>25,384,047,207</td>\n",
       "      <td>194,147,627,475</td>\n",
       "    </tr>\n",
       "    <tr>\n",
       "      <td>2019-07-14</td>\n",
       "      <td>2</td>\n",
       "      <td>11381.02</td>\n",
       "      <td>11451.20</td>\n",
       "      <td>10234.58</td>\n",
       "      <td>10256.06</td>\n",
       "      <td>22,486,000,001</td>\n",
       "      <td>182,741,933,552</td>\n",
       "    </tr>\n",
       "    <tr>\n",
       "      <td>2019-07-13</td>\n",
       "      <td>3</td>\n",
       "      <td>11813.13</td>\n",
       "      <td>11841.96</td>\n",
       "      <td>10908.48</td>\n",
       "      <td>11392.38</td>\n",
       "      <td>21,042,616,384</td>\n",
       "      <td>202,968,191,001</td>\n",
       "    </tr>\n",
       "    <tr>\n",
       "      <td>2019-07-12</td>\n",
       "      <td>4</td>\n",
       "      <td>11354.30</td>\n",
       "      <td>11905.49</td>\n",
       "      <td>11179.14</td>\n",
       "      <td>11815.99</td>\n",
       "      <td>23,534,692,797</td>\n",
       "      <td>210,494,417,832</td>\n",
       "    </tr>\n",
       "    <tr>\n",
       "      <td>2019-07-11</td>\n",
       "      <td>5</td>\n",
       "      <td>12139.71</td>\n",
       "      <td>12144.62</td>\n",
       "      <td>11158.92</td>\n",
       "      <td>11358.66</td>\n",
       "      <td>28,595,327,690</td>\n",
       "      <td>202,324,174,692</td>\n",
       "    </tr>\n",
       "  </tbody>\n",
       "</table>\n",
       "</div>"
      ],
      "text/plain": [
       "            Unnamed: 0      Open      High       Low     Close  \\\n",
       "Date                                                             \n",
       "2019-07-15           1  10257.84  11052.77   9992.01  10895.09   \n",
       "2019-07-14           2  11381.02  11451.20  10234.58  10256.06   \n",
       "2019-07-13           3  11813.13  11841.96  10908.48  11392.38   \n",
       "2019-07-12           4  11354.30  11905.49  11179.14  11815.99   \n",
       "2019-07-11           5  12139.71  12144.62  11158.92  11358.66   \n",
       "\n",
       "                    Volume       Market Cap  \n",
       "Date                                         \n",
       "2019-07-15  25,384,047,207  194,147,627,475  \n",
       "2019-07-14  22,486,000,001  182,741,933,552  \n",
       "2019-07-13  21,042,616,384  202,968,191,001  \n",
       "2019-07-12  23,534,692,797  210,494,417,832  \n",
       "2019-07-11  28,595,327,690  202,324,174,692  "
      ]
     },
     "execution_count": 80,
     "metadata": {},
     "output_type": "execute_result"
    }
   ],
   "source": [
    "import pandas as pd\n",
    "import numpy as np\n",
    "\n",
    "from sklearn.linear_model import LinearRegression\n",
    "from sklearn.model_selection import train_test_split\n",
    "from sklearn import metrics\n",
    "import scipy.stats as stats\n",
    "\n",
    "# visualization\n",
    "%matplotlib inline\n",
    "import seaborn as sns\n",
    "import matplotlib.pyplot as plt\n",
    "df_bitcoin = pd.read_csv(\"Bitcoin_data.csv\")\n",
    "df_bitcoin['Date'] = pd.to_datetime(df_bitcoin['Date'])\n",
    "df_bitcoin.set_index('Date', inplace=True)\n",
    "df_bitcoin.head(5)"
   ]
  },
  {
   "cell_type": "code",
   "execution_count": 81,
   "metadata": {},
   "outputs": [
    {
     "data": {
      "text/plain": [
       "Unnamed: 0    4539\n",
       "Open          4539\n",
       "High          4539\n",
       "Low           4539\n",
       "Close         4539\n",
       "Volume        4539\n",
       "Market Cap    4539\n",
       "dtype: int64"
      ]
     },
     "execution_count": 81,
     "metadata": {},
     "output_type": "execute_result"
    }
   ],
   "source": [
    "df_bitcoin.count()"
   ]
  },
  {
   "cell_type": "code",
   "execution_count": 82,
   "metadata": {},
   "outputs": [
    {
     "data": {
      "text/plain": [
       "Unnamed: 0      int64\n",
       "Open          float64\n",
       "High          float64\n",
       "Low           float64\n",
       "Close         float64\n",
       "Volume         object\n",
       "Market Cap     object\n",
       "dtype: object"
      ]
     },
     "execution_count": 82,
     "metadata": {},
     "output_type": "execute_result"
    }
   ],
   "source": [
    "df_bitcoin.dtypes"
   ]
  },
  {
   "cell_type": "code",
   "execution_count": 83,
   "metadata": {},
   "outputs": [],
   "source": [
    "#df_bitcoin.Volume = df_bitcoin.Volume.astype(int)\n"
   ]
  },
  {
   "cell_type": "code",
   "execution_count": 84,
   "metadata": {},
   "outputs": [
    {
     "data": {
      "text/html": [
       "<div>\n",
       "<style scoped>\n",
       "    .dataframe tbody tr th:only-of-type {\n",
       "        vertical-align: middle;\n",
       "    }\n",
       "\n",
       "    .dataframe tbody tr th {\n",
       "        vertical-align: top;\n",
       "    }\n",
       "\n",
       "    .dataframe thead th {\n",
       "        text-align: right;\n",
       "    }\n",
       "</style>\n",
       "<table border=\"1\" class=\"dataframe\">\n",
       "  <thead>\n",
       "    <tr style=\"text-align: right;\">\n",
       "      <th></th>\n",
       "      <th>Unnamed: 0</th>\n",
       "      <th>Open</th>\n",
       "      <th>High</th>\n",
       "      <th>Low</th>\n",
       "      <th>Close</th>\n",
       "      <th>Volume</th>\n",
       "      <th>Market Cap</th>\n",
       "      <th>Change</th>\n",
       "    </tr>\n",
       "    <tr>\n",
       "      <th>Date</th>\n",
       "      <th></th>\n",
       "      <th></th>\n",
       "      <th></th>\n",
       "      <th></th>\n",
       "      <th></th>\n",
       "      <th></th>\n",
       "      <th></th>\n",
       "      <th></th>\n",
       "    </tr>\n",
       "  </thead>\n",
       "  <tbody>\n",
       "    <tr>\n",
       "      <td>2019-07-15</td>\n",
       "      <td>1</td>\n",
       "      <td>10257.84</td>\n",
       "      <td>11052.77</td>\n",
       "      <td>9992.01</td>\n",
       "      <td>10895.09</td>\n",
       "      <td>25,384,047,207</td>\n",
       "      <td>194,147,627,475</td>\n",
       "      <td>637.25</td>\n",
       "    </tr>\n",
       "    <tr>\n",
       "      <td>2019-07-14</td>\n",
       "      <td>2</td>\n",
       "      <td>11381.02</td>\n",
       "      <td>11451.20</td>\n",
       "      <td>10234.58</td>\n",
       "      <td>10256.06</td>\n",
       "      <td>22,486,000,001</td>\n",
       "      <td>182,741,933,552</td>\n",
       "      <td>-1124.96</td>\n",
       "    </tr>\n",
       "    <tr>\n",
       "      <td>2019-07-13</td>\n",
       "      <td>3</td>\n",
       "      <td>11813.13</td>\n",
       "      <td>11841.96</td>\n",
       "      <td>10908.48</td>\n",
       "      <td>11392.38</td>\n",
       "      <td>21,042,616,384</td>\n",
       "      <td>202,968,191,001</td>\n",
       "      <td>-420.75</td>\n",
       "    </tr>\n",
       "    <tr>\n",
       "      <td>2019-07-12</td>\n",
       "      <td>4</td>\n",
       "      <td>11354.30</td>\n",
       "      <td>11905.49</td>\n",
       "      <td>11179.14</td>\n",
       "      <td>11815.99</td>\n",
       "      <td>23,534,692,797</td>\n",
       "      <td>210,494,417,832</td>\n",
       "      <td>461.69</td>\n",
       "    </tr>\n",
       "    <tr>\n",
       "      <td>2019-07-11</td>\n",
       "      <td>5</td>\n",
       "      <td>12139.71</td>\n",
       "      <td>12144.62</td>\n",
       "      <td>11158.92</td>\n",
       "      <td>11358.66</td>\n",
       "      <td>28,595,327,690</td>\n",
       "      <td>202,324,174,692</td>\n",
       "      <td>-781.05</td>\n",
       "    </tr>\n",
       "    <tr>\n",
       "      <td>...</td>\n",
       "      <td>...</td>\n",
       "      <td>...</td>\n",
       "      <td>...</td>\n",
       "      <td>...</td>\n",
       "      <td>...</td>\n",
       "      <td>...</td>\n",
       "      <td>...</td>\n",
       "      <td>...</td>\n",
       "    </tr>\n",
       "    <tr>\n",
       "      <td>2013-05-01</td>\n",
       "      <td>2267</td>\n",
       "      <td>139.00</td>\n",
       "      <td>139.89</td>\n",
       "      <td>107.72</td>\n",
       "      <td>116.99</td>\n",
       "      <td>-</td>\n",
       "      <td>1,298,954,594</td>\n",
       "      <td>-22.01</td>\n",
       "    </tr>\n",
       "    <tr>\n",
       "      <td>2013-04-30</td>\n",
       "      <td>2268</td>\n",
       "      <td>144.00</td>\n",
       "      <td>146.93</td>\n",
       "      <td>134.05</td>\n",
       "      <td>139.00</td>\n",
       "      <td>-</td>\n",
       "      <td>1,542,813,125</td>\n",
       "      <td>-5.00</td>\n",
       "    </tr>\n",
       "    <tr>\n",
       "      <td>2013-04-29</td>\n",
       "      <td>2269</td>\n",
       "      <td>134.44</td>\n",
       "      <td>147.49</td>\n",
       "      <td>134.00</td>\n",
       "      <td>144.54</td>\n",
       "      <td>-</td>\n",
       "      <td>1,603,768,865</td>\n",
       "      <td>10.10</td>\n",
       "    </tr>\n",
       "    <tr>\n",
       "      <td>2013-04-28</td>\n",
       "      <td>2270</td>\n",
       "      <td>135.30</td>\n",
       "      <td>135.98</td>\n",
       "      <td>132.10</td>\n",
       "      <td>134.21</td>\n",
       "      <td>-</td>\n",
       "      <td>1,488,566,728</td>\n",
       "      <td>-1.09</td>\n",
       "    </tr>\n",
       "    <tr>\n",
       "      <td>2013-04-28</td>\n",
       "      <td>2270</td>\n",
       "      <td>135.30</td>\n",
       "      <td>135.98</td>\n",
       "      <td>132.10</td>\n",
       "      <td>134.21</td>\n",
       "      <td>-</td>\n",
       "      <td>1,488,566,728</td>\n",
       "      <td>-1.09</td>\n",
       "    </tr>\n",
       "  </tbody>\n",
       "</table>\n",
       "<p>4539 rows × 8 columns</p>\n",
       "</div>"
      ],
      "text/plain": [
       "            Unnamed: 0      Open      High       Low     Close  \\\n",
       "Date                                                             \n",
       "2019-07-15           1  10257.84  11052.77   9992.01  10895.09   \n",
       "2019-07-14           2  11381.02  11451.20  10234.58  10256.06   \n",
       "2019-07-13           3  11813.13  11841.96  10908.48  11392.38   \n",
       "2019-07-12           4  11354.30  11905.49  11179.14  11815.99   \n",
       "2019-07-11           5  12139.71  12144.62  11158.92  11358.66   \n",
       "...                ...       ...       ...       ...       ...   \n",
       "2013-05-01        2267    139.00    139.89    107.72    116.99   \n",
       "2013-04-30        2268    144.00    146.93    134.05    139.00   \n",
       "2013-04-29        2269    134.44    147.49    134.00    144.54   \n",
       "2013-04-28        2270    135.30    135.98    132.10    134.21   \n",
       "2013-04-28        2270    135.30    135.98    132.10    134.21   \n",
       "\n",
       "                    Volume       Market Cap   Change  \n",
       "Date                                                  \n",
       "2019-07-15  25,384,047,207  194,147,627,475   637.25  \n",
       "2019-07-14  22,486,000,001  182,741,933,552 -1124.96  \n",
       "2019-07-13  21,042,616,384  202,968,191,001  -420.75  \n",
       "2019-07-12  23,534,692,797  210,494,417,832   461.69  \n",
       "2019-07-11  28,595,327,690  202,324,174,692  -781.05  \n",
       "...                    ...              ...      ...  \n",
       "2013-05-01               -    1,298,954,594   -22.01  \n",
       "2013-04-30               -    1,542,813,125    -5.00  \n",
       "2013-04-29               -    1,603,768,865    10.10  \n",
       "2013-04-28               -    1,488,566,728    -1.09  \n",
       "2013-04-28               -    1,488,566,728    -1.09  \n",
       "\n",
       "[4539 rows x 8 columns]"
      ]
     },
     "execution_count": 84,
     "metadata": {},
     "output_type": "execute_result"
    }
   ],
   "source": [
    "df_bitcoin[\"Change\"] = df_bitcoin.Close - df_bitcoin.Open\n",
    "df_bitcoin"
   ]
  },
  {
   "cell_type": "code",
   "execution_count": 85,
   "metadata": {},
   "outputs": [
    {
     "data": {
      "text/plain": [
       "Timestamp('2019-07-15 00:00:00')"
      ]
     },
     "execution_count": 85,
     "metadata": {},
     "output_type": "execute_result"
    }
   ],
   "source": [
    "max(df_bitcoin.index)\n"
   ]
  },
  {
   "cell_type": "code",
   "execution_count": 86,
   "metadata": {},
   "outputs": [
    {
     "data": {
      "text/plain": [
       "Timestamp('2013-04-28 00:00:00')"
      ]
     },
     "execution_count": 86,
     "metadata": {},
     "output_type": "execute_result"
    }
   ],
   "source": [
    "min(df_bitcoin.index)"
   ]
  },
  {
   "cell_type": "code",
   "execution_count": 95,
   "metadata": {},
   "outputs": [
    {
     "data": {
      "text/plain": [
       "<matplotlib.axes._subplots.AxesSubplot at 0x1143cab50>"
      ]
     },
     "execution_count": 95,
     "metadata": {},
     "output_type": "execute_result"
    },
    {
     "data": {
      "image/png": "[encoded data removed]",
      "text/plain": [
       "<Figure size 432x288 with 1 Axes>"
      ]
     },
     "metadata": {
      "needs_background": "light"
     },
     "output_type": "display_data"
    }
   ],
   "source": [
    "df_bitcoin[\"Close\"].plot()\n"
   ]
  },
  {
   "cell_type": "code",
   "execution_count": 96,
   "metadata": {},
   "outputs": [
    {
     "data": {
      "text/html": [
       "<div>\n",
       "<style scoped>\n",
       "    .dataframe tbody tr th:only-of-type {\n",
       "        vertical-align: middle;\n",
       "    }\n",
       "\n",
       "    .dataframe tbody tr th {\n",
       "        vertical-align: top;\n",
       "    }\n",
       "\n",
       "    .dataframe thead th {\n",
       "        text-align: right;\n",
       "    }\n",
       "</style>\n",
       "<table border=\"1\" class=\"dataframe\">\n",
       "  <thead>\n",
       "    <tr style=\"text-align: right;\">\n",
       "      <th></th>\n",
       "      <th>Unnamed: 0</th>\n",
       "      <th>Open</th>\n",
       "      <th>High</th>\n",
       "      <th>Low</th>\n",
       "      <th>Close</th>\n",
       "      <th>Change</th>\n",
       "    </tr>\n",
       "  </thead>\n",
       "  <tbody>\n",
       "    <tr>\n",
       "      <td>Unnamed: 0</td>\n",
       "      <td>1.000000</td>\n",
       "      <td>-0.713264</td>\n",
       "      <td>-0.707873</td>\n",
       "      <td>-0.722475</td>\n",
       "      <td>-0.713743</td>\n",
       "      <td>-0.017101</td>\n",
       "    </tr>\n",
       "    <tr>\n",
       "      <td>Open</td>\n",
       "      <td>-0.713264</td>\n",
       "      <td>1.000000</td>\n",
       "      <td>0.998881</td>\n",
       "      <td>0.998097</td>\n",
       "      <td>0.997579</td>\n",
       "      <td>-0.020478</td>\n",
       "    </tr>\n",
       "    <tr>\n",
       "      <td>High</td>\n",
       "      <td>-0.707873</td>\n",
       "      <td>0.998881</td>\n",
       "      <td>1.000000</td>\n",
       "      <td>0.997885</td>\n",
       "      <td>0.999080</td>\n",
       "      <td>0.017178</td>\n",
       "    </tr>\n",
       "    <tr>\n",
       "      <td>Low</td>\n",
       "      <td>-0.722475</td>\n",
       "      <td>0.998097</td>\n",
       "      <td>0.997885</td>\n",
       "      <td>1.000000</td>\n",
       "      <td>0.998735</td>\n",
       "      <td>0.023485</td>\n",
       "    </tr>\n",
       "    <tr>\n",
       "      <td>Close</td>\n",
       "      <td>-0.713743</td>\n",
       "      <td>0.997579</td>\n",
       "      <td>0.999080</td>\n",
       "      <td>0.998735</td>\n",
       "      <td>1.000000</td>\n",
       "      <td>0.049098</td>\n",
       "    </tr>\n",
       "    <tr>\n",
       "      <td>Change</td>\n",
       "      <td>-0.017101</td>\n",
       "      <td>-0.020478</td>\n",
       "      <td>0.017178</td>\n",
       "      <td>0.023485</td>\n",
       "      <td>0.049098</td>\n",
       "      <td>1.000000</td>\n",
       "    </tr>\n",
       "  </tbody>\n",
       "</table>\n",
       "</div>"
      ],
      "text/plain": [
       "            Unnamed: 0      Open      High       Low     Close    Change\n",
       "Unnamed: 0    1.000000 -0.713264 -0.707873 -0.722475 -0.713743 -0.017101\n",
       "Open         -0.713264  1.000000  0.998881  0.998097  0.997579 -0.020478\n",
       "High         -0.707873  0.998881  1.000000  0.997885  0.999080  0.017178\n",
       "Low          -0.722475  0.998097  0.997885  1.000000  0.998735  0.023485\n",
       "Close        -0.713743  0.997579  0.999080  0.998735  1.000000  0.049098\n",
       "Change       -0.017101 -0.020478  0.017178  0.023485  0.049098  1.000000"
      ]
     },
     "execution_count": 96,
     "metadata": {},
     "output_type": "execute_result"
    }
   ],
   "source": [
    "auto_correlations = df_bitcoin.corr()\n",
    "auto_correlations"
   ]
  },
  {
   "cell_type": "code",
   "execution_count": 97,
   "metadata": {},
   "outputs": [
    {
     "data": {
      "text/plain": [
       "<matplotlib.axes._subplots.AxesSubplot at 0x114ff2210>"
      ]
     },
     "execution_count": 97,
     "metadata": {},
     "output_type": "execute_result"
    },
    {
     "data": {
      "image/png": "[encoded data removed]",
      "text/plain": [
       "<Figure size 432x288 with 2 Axes>"
      ]
     },
     "metadata": {
      "needs_background": "light"
     },
     "output_type": "display_data"
    }
   ],
   "source": [
    "sns.heatmap(auto_correlations)"
   ]
  },
  {
   "cell_type": "code",
   "execution_count": null,
   "metadata": {},
   "outputs": [],
   "source": []
  },
  {
   "cell_type": "code",
   "execution_count": null,
   "metadata": {},
   "outputs": [],
   "source": []
  }
 ],
 "metadata": {
  "kernelspec": {
   "display_name": "Python 3",
   "language": "python",
   "name": "python3"
  },
  "language_info": {
   "codemirror_mode": {
    "name": "ipython",
    "version": 3
   },
   "file_extension": ".py",
   "mimetype": "text/x-python",
   "name": "python",
   "nbconvert_exporter": "python",
   "pygments_lexer": "ipython3",
   "version": "3.7.4"
  }
 },
 "nbformat": 4,
 "nbformat_minor": 2
}
